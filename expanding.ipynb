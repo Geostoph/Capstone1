{
 "cells": [
  {
   "cell_type": "markdown",
   "metadata": {},
   "source": [
    "## DW1: Getting PDF documents from a URL:"
   ]
  },
  {
   "cell_type": "code",
   "execution_count": 1,
   "metadata": {},
   "outputs": [],
   "source": [
    "import pandas as pd\n",
    "import numpy as np\n",
    "import requests\n",
    "import urllib.request"
   ]
  },
  {
   "cell_type": "markdown",
   "metadata": {},
   "source": [
    "### Obtain the URL data from the API and store in a dataframe:"
   ]
  },
  {
   "cell_type": "code",
   "execution_count": 2,
   "metadata": {},
   "outputs": [],
   "source": [
    "from sodapy import Socrata"
   ]
  },
  {
   "cell_type": "code",
   "execution_count": 3,
   "metadata": {},
   "outputs": [
    {
     "name": "stderr",
     "output_type": "stream",
     "text": [
      "WARNING:root:Requests made without an app_token will be subject to strict throttling limits.\n"
     ]
    }
   ],
   "source": [
    "# Unauthenticated client only works with public data sets. Note 'None'\n",
    "# in place of application token, and no username or password:\n",
    "client = Socrata(\"data.oregon.gov\", None)\n",
    "\n",
    "# Example authenticated client (needed for non-public datasets):\n",
    "# client = Socrata(data.oregon.gov,\n",
    "#                  MyAppToken,\n",
    "#                  userame=\"user@example.com\",\n",
    "#                  password=\"AFakePassword\")\n",
    "\n",
    "# First 2000 results, returned as JSON from API / converted to Python list of\n",
    "# dictionaries by sodapy.\n",
    "results = client.get(\"murb-ru5f\", limit=2000)\n",
    "\n",
    "# Convert to pandas DataFrame\n",
    "results_df = pd.DataFrame.from_records(results)"
   ]
  },
  {
   "cell_type": "markdown",
   "metadata": {},
   "source": [
    "### Extract usable portions of text column for file naming\n",
    "The first step is to isolate text from \n",
    "the \"measure_number\" column.\n",
    "Second is to add columns for the gover\n",
    "\n",
    "Ultimately, we need the bill name, the bill URL,\n",
    "the governor name, and the year the bill was signed.\n",
    "\n",
    "file_name = gov_name + \"_\" + gov_year + \"_\" + the_bill\n",
    "\n",
    "'Brown_2018_HB405'\n",
    "\n",
    "**This explanation does not cover how to deal with \n",
    "paths, which is another task to consider**\n",
    "\n"
   ]
  },
  {
   "cell_type": "code",
   "execution_count": 4,
   "metadata": {},
   "outputs": [],
   "source": [
    "#get just the abbreviated name of the bill\n",
    "\n",
    "#create an empty set to hold the results\n",
    "simple_name = []\n",
    "#loop through the measure_number column\n",
    "for a in results_df['measure_number']:\n",
    "    \n",
    "    #turn the column into a string\n",
    "    x = str(a)\n",
    "    \n",
    "    #grab everything after the \"//\"\n",
    "    after_https = x.split('//')[1]\n",
    "    \n",
    "    #grab everything after the 5th \"/\"\n",
    "    the_bill = after_https.split('/')[5]\n",
    "    \n",
    "    #split on the comma and take the first item\n",
    "    simple_name_a= the_bill.split(\"'\",1)[0]\n",
    "    \n",
    "    #add the result to the empty set    \n",
    "    simple_name.append(simple_name_a)\n",
    "    \n",
    "#place the results into a new column in the df    \n",
    "results_df['simple_name'] = simple_name\n"
   ]
  },
  {
   "cell_type": "code",
   "execution_count": 5,
   "metadata": {},
   "outputs": [],
   "source": [
    "#follow same steps as above to extract relevant text.\n",
    "\n",
    "final = []\n",
    "for url in results_df['measure_number']:\n",
    "    x =str(url)\n",
    "    y = x.split(\": '\", 1)[1]\n",
    "    z = y.split(\",\",1)[0]\n",
    "    final_url = z.split(\"'\",1)[0]\n",
    "    final.append(final_url)\n",
    "results_df['bill_url'] = final\n"
   ]
  },
  {
   "cell_type": "code",
   "execution_count": 6,
   "metadata": {},
   "outputs": [],
   "source": [
    "#add a column for the governor name \n",
    "\n",
    "for name in results_df:\n",
    "    name = \"Kitzhaber\"\n",
    "results_df[\"gov_name\"] = name\n",
    "\n",
    "#add a column for the year the bill was signed\n",
    "\n",
    "for name in results_df:\n",
    "    name = \"2014\"\n",
    "results_df[\"gov_year\"] = name\n"
   ]
  },
  {
   "cell_type": "code",
   "execution_count": 7,
   "metadata": {},
   "outputs": [],
   "source": [
    "#compose the file name \n",
    "results_df['file_name']= results_df['gov_name']+ \"_\" + results_df['gov_year'] + \"_\" + results_df['simple_name']"
   ]
  },
  {
   "cell_type": "code",
   "execution_count": 8,
   "metadata": {},
   "outputs": [
    {
     "data": {
      "text/html": [
       "<div>\n",
       "<style scoped>\n",
       "    .dataframe tbody tr th:only-of-type {\n",
       "        vertical-align: middle;\n",
       "    }\n",
       "\n",
       "    .dataframe tbody tr th {\n",
       "        vertical-align: top;\n",
       "    }\n",
       "\n",
       "    .dataframe thead th {\n",
       "        text-align: right;\n",
       "    }\n",
       "</style>\n",
       "<table border=\"1\" class=\"dataframe\">\n",
       "  <thead>\n",
       "    <tr style=\"text-align: right;\">\n",
       "      <th></th>\n",
       "      <th>measure_number</th>\n",
       "      <th>signed_or_vetoed</th>\n",
       "      <th>date</th>\n",
       "      <th>relating_to_clause</th>\n",
       "      <th>links</th>\n",
       "      <th>simple_name</th>\n",
       "      <th>bill_url</th>\n",
       "      <th>gov_name</th>\n",
       "      <th>gov_year</th>\n",
       "      <th>file_name</th>\n",
       "    </tr>\n",
       "  </thead>\n",
       "  <tbody>\n",
       "    <tr>\n",
       "      <td>116</td>\n",
       "      <td>{'url': 'https://olis.leg.state.or.us/liz/2014...</td>\n",
       "      <td>&lt;p&gt;Signed&lt;/p&gt;</td>\n",
       "      <td>2014-04-01T00:00:00.000</td>\n",
       "      <td>&lt;p&gt;Relating to state financial administration&lt;/p&gt;</td>\n",
       "      <td>NaN</td>\n",
       "      <td>SB5701</td>\n",
       "      <td>https://olis.leg.state.or.us/liz/2014R1/Downlo...</td>\n",
       "      <td>Kitzhaber</td>\n",
       "      <td>2014</td>\n",
       "      <td>Kitzhaber_2014_SB5701</td>\n",
       "    </tr>\n",
       "    <tr>\n",
       "      <td>117</td>\n",
       "      <td>{'url': 'https://olis.leg.state.or.us/liz/2014...</td>\n",
       "      <td>&lt;p&gt;Signed&lt;/p&gt;</td>\n",
       "      <td>2014-04-01T00:00:00.000</td>\n",
       "      <td>&lt;p&gt;Relating to state financial administrati&lt;/p&gt;</td>\n",
       "      <td>NaN</td>\n",
       "      <td>SB5702</td>\n",
       "      <td>https://olis.leg.state.or.us/liz/2014R1/Downlo...</td>\n",
       "      <td>Kitzhaber</td>\n",
       "      <td>2014</td>\n",
       "      <td>Kitzhaber_2014_SB5702</td>\n",
       "    </tr>\n",
       "    <tr>\n",
       "      <td>118</td>\n",
       "      <td>{'url': 'https://olis.leg.state.or.us/liz/2014...</td>\n",
       "      <td>&lt;p&gt;Signed&lt;/p&gt;</td>\n",
       "      <td>2014-04-01T00:00:00.000</td>\n",
       "      <td>&lt;p&gt;Relating to state financial administration;...</td>\n",
       "      <td>NaN</td>\n",
       "      <td>SB5703</td>\n",
       "      <td>https://olis.leg.state.or.us/liz/2014R1/Downlo...</td>\n",
       "      <td>Kitzhaber</td>\n",
       "      <td>2014</td>\n",
       "      <td>Kitzhaber_2014_SB5703</td>\n",
       "    </tr>\n",
       "    <tr>\n",
       "      <td>119</td>\n",
       "      <td>{'url': 'https://olis.leg.state.or.us/liz/2014...</td>\n",
       "      <td>&lt;p&gt;Signed&lt;/p&gt;</td>\n",
       "      <td>2014-04-01T00:00:00.000</td>\n",
       "      <td>&lt;p&gt;Relating to  possession of a  weapon by  a ...</td>\n",
       "      <td>{'url': 'http://www.oregon.gov/gov/docs/HB4035...</td>\n",
       "      <td>HB4035</td>\n",
       "      <td>https://olis.leg.state.or.us/liz/2014R1/Downlo...</td>\n",
       "      <td>Kitzhaber</td>\n",
       "      <td>2014</td>\n",
       "      <td>Kitzhaber_2014_HB4035</td>\n",
       "    </tr>\n",
       "    <tr>\n",
       "      <td>120</td>\n",
       "      <td>{'url': 'https://olis.leg.state.or.us/liz/2014...</td>\n",
       "      <td>&lt;p&gt;Signed&lt;/p&gt;</td>\n",
       "      <td>2014-03-06T00:00:00.000</td>\n",
       "      <td>&lt;p&gt;Relating to payment of medical expenses for...</td>\n",
       "      <td>NaN</td>\n",
       "      <td>HB4104</td>\n",
       "      <td>https://olis.leg.state.or.us/liz/2014R1/Downlo...</td>\n",
       "      <td>Kitzhaber</td>\n",
       "      <td>2014</td>\n",
       "      <td>Kitzhaber_2014_HB4104</td>\n",
       "    </tr>\n",
       "  </tbody>\n",
       "</table>\n",
       "</div>"
      ],
      "text/plain": [
       "                                        measure_number signed_or_vetoed  \\\n",
       "116  {'url': 'https://olis.leg.state.or.us/liz/2014...    <p>Signed</p>   \n",
       "117  {'url': 'https://olis.leg.state.or.us/liz/2014...    <p>Signed</p>   \n",
       "118  {'url': 'https://olis.leg.state.or.us/liz/2014...    <p>Signed</p>   \n",
       "119  {'url': 'https://olis.leg.state.or.us/liz/2014...    <p>Signed</p>   \n",
       "120  {'url': 'https://olis.leg.state.or.us/liz/2014...    <p>Signed</p>   \n",
       "\n",
       "                        date  \\\n",
       "116  2014-04-01T00:00:00.000   \n",
       "117  2014-04-01T00:00:00.000   \n",
       "118  2014-04-01T00:00:00.000   \n",
       "119  2014-04-01T00:00:00.000   \n",
       "120  2014-03-06T00:00:00.000   \n",
       "\n",
       "                                    relating_to_clause  \\\n",
       "116  <p>Relating to state financial administration</p>   \n",
       "117    <p>Relating to state financial administrati</p>   \n",
       "118  <p>Relating to state financial administration;...   \n",
       "119  <p>Relating to  possession of a  weapon by  a ...   \n",
       "120  <p>Relating to payment of medical expenses for...   \n",
       "\n",
       "                                                 links simple_name  \\\n",
       "116                                                NaN      SB5701   \n",
       "117                                                NaN      SB5702   \n",
       "118                                                NaN      SB5703   \n",
       "119  {'url': 'http://www.oregon.gov/gov/docs/HB4035...      HB4035   \n",
       "120                                                NaN      HB4104   \n",
       "\n",
       "                                              bill_url   gov_name gov_year  \\\n",
       "116  https://olis.leg.state.or.us/liz/2014R1/Downlo...  Kitzhaber     2014   \n",
       "117  https://olis.leg.state.or.us/liz/2014R1/Downlo...  Kitzhaber     2014   \n",
       "118  https://olis.leg.state.or.us/liz/2014R1/Downlo...  Kitzhaber     2014   \n",
       "119  https://olis.leg.state.or.us/liz/2014R1/Downlo...  Kitzhaber     2014   \n",
       "120  https://olis.leg.state.or.us/liz/2014R1/Downlo...  Kitzhaber     2014   \n",
       "\n",
       "                 file_name  \n",
       "116  Kitzhaber_2014_SB5701  \n",
       "117  Kitzhaber_2014_SB5702  \n",
       "118  Kitzhaber_2014_SB5703  \n",
       "119  Kitzhaber_2014_HB4035  \n",
       "120  Kitzhaber_2014_HB4104  "
      ]
     },
     "execution_count": 8,
     "metadata": {},
     "output_type": "execute_result"
    }
   ],
   "source": [
    "results_df.tail()"
   ]
  },
  {
   "cell_type": "markdown",
   "metadata": {},
   "source": [
    "### Writing a single pdf file locally"
   ]
  },
  {
   "cell_type": "code",
   "execution_count": 9,
   "metadata": {},
   "outputs": [],
   "source": [
    "_ = results_df['bill_url'][0]"
   ]
  },
  {
   "cell_type": "code",
   "execution_count": 10,
   "metadata": {},
   "outputs": [
    {
     "data": {
      "text/plain": [
       "('C:\\\\Users\\\\ASUS\\\\single.pdf', <http.client.HTTPMessage at 0x2912d527108>)"
      ]
     },
     "execution_count": 10,
     "metadata": {},
     "output_type": "execute_result"
    }
   ],
   "source": [
    "urllib.request.urlretrieve(_,r'C:\\Users\\ASUS\\single.pdf')"
   ]
  },
  {
   "cell_type": "markdown",
   "metadata": {},
   "source": [
    "### write PDF files using file_name "
   ]
  },
  {
   "cell_type": "code",
   "execution_count": 11,
   "metadata": {},
   "outputs": [],
   "source": [
    "#for file in results_df['bill_url']:\n",
    "#   urllib.request.urlretrieve(file,r'C:\\Users\\ASUS\\a.pdf')"
   ]
  },
  {
   "cell_type": "code",
   "execution_count": null,
   "metadata": {},
   "outputs": [],
   "source": []
  }
 ],
 "metadata": {
  "kernelspec": {
   "display_name": "Python 3",
   "language": "python",
   "name": "python3"
  },
  "language_info": {
   "codemirror_mode": {
    "name": "ipython",
    "version": 3
   },
   "file_extension": ".py",
   "mimetype": "text/x-python",
   "name": "python",
   "nbconvert_exporter": "python",
   "pygments_lexer": "ipython3",
   "version": "3.7.4"
  }
 },
 "nbformat": 4,
 "nbformat_minor": 2
}
