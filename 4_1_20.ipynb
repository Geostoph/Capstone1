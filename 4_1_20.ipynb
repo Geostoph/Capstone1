{
 "cells": [
  {
   "cell_type": "markdown",
   "metadata": {},
   "source": [
    "## DW1: Getting PDF documents from a URL:"
   ]
  },
  {
   "cell_type": "code",
   "execution_count": 1,
   "metadata": {},
   "outputs": [],
   "source": [
    "import pandas as pd\n",
    "import numpy as np\n",
    "import requests\n",
    "import urllib.request"
   ]
  },
  {
   "cell_type": "markdown",
   "metadata": {},
   "source": [
    "### Obtain the URL data from the API and store in a dataframe:"
   ]
  },
  {
   "cell_type": "code",
   "execution_count": 2,
   "metadata": {},
   "outputs": [],
   "source": [
    "from sodapy import Socrata"
   ]
  },
  {
   "cell_type": "code",
   "execution_count": 3,
   "metadata": {},
   "outputs": [
    {
     "name": "stderr",
     "output_type": "stream",
     "text": [
      "WARNING:root:Requests made without an app_token will be subject to strict throttling limits.\n"
     ]
    }
   ],
   "source": [
    "# Unauthenticated client only works with public data sets. Note 'None'\n",
    "# in place of application token, and no username or password:\n",
    "client = Socrata(\"data.oregon.gov\", None)\n",
    "\n",
    "# Example authenticated client (needed for non-public datasets):\n",
    "# client = Socrata(data.oregon.gov,\n",
    "#                  MyAppToken,\n",
    "#                  userame=\"user@example.com\",\n",
    "#                  password=\"AFakePassword\")\n",
    "\n",
    "# First 2000 results, returned as JSON from API / converted to Python list of\n",
    "# dictionaries by sodapy.\n",
    "results = client.get(\"murb-ru5f\", limit=2000)\n",
    "\n",
    "# Convert to pandas DataFrame\n",
    "results_df = pd.DataFrame.from_records(results)"
   ]
  },
  {
   "cell_type": "markdown",
   "metadata": {},
   "source": [
    "### Extract usable portions of text column for file naming\n",
    "The first step is to isolate text from \n",
    "the \"measure_number\" column.\n",
    "Second is to add columns for the gover\n",
    "\n",
    "Ultimately, we need the bill name, the bill URL,\n",
    "the governor name, and the year the bill was signed.\n",
    "\n",
    "file_name = gov_name + \"_\" + gov_year + \"_\" + the_bill\n",
    "\n",
    "'Brown_2018_HB405'\n",
    "\n",
    "**This explanation does not cover how to deal with \n",
    "paths, which is another task to consider**\n",
    "\n"
   ]
  },
  {
   "cell_type": "code",
   "execution_count": 4,
   "metadata": {},
   "outputs": [],
   "source": [
    "#get just the abbreviated name of the bill\n",
    "\n",
    "#create an empty set to hold the results\n",
    "simple_name = []\n",
    "#loop through the measure_number column\n",
    "for a in results_df['measure_number']:\n",
    "    \n",
    "    #turn the column into a string\n",
    "    x = str(a)\n",
    "    \n",
    "    #grab everything after the \"//\"\n",
    "    after_https = x.split('//')[1]\n",
    "    \n",
    "    #grab everything after the 5th \"/\"\n",
    "    the_bill = after_https.split('/')[5]\n",
    "    \n",
    "    #split on the comma and take the first item\n",
    "    simple_name_a= the_bill.split(\"'\",1)[0]\n",
    "    \n",
    "    #add the result to the empty set    \n",
    "    simple_name.append(simple_name_a)\n",
    "    \n",
    "#place the results into a new column in the df    \n",
    "results_df['simple_name'] = simple_name\n"
   ]
  },
  {
   "cell_type": "code",
   "execution_count": 5,
   "metadata": {},
   "outputs": [],
   "source": [
    "#follow same steps as above to extract relevant text.\n",
    "\n",
    "final = []\n",
    "for url in results_df['measure_number']:\n",
    "    x =str(url)\n",
    "    y = x.split(\": '\", 1)[1]\n",
    "    z = y.split(\",\",1)[0]\n",
    "    final_url = z.split(\"'\",1)[0]\n",
    "    final.append(final_url)\n",
    "results_df['bill_url'] = final\n"
   ]
  },
  {
   "cell_type": "code",
   "execution_count": 6,
   "metadata": {},
   "outputs": [],
   "source": [
    "#add a column for the governor name \n",
    "\n",
    "for name in results_df:\n",
    "    name = \"Kitzhaber\"\n",
    "results_df[\"gov_name\"] = name\n",
    "\n",
    "#add a column for the year the bill was signed\n",
    "\n",
    "for name in results_df:\n",
    "    name = \"2014\"\n",
    "results_df[\"gov_year\"] = name\n"
   ]
  },
  {
   "cell_type": "code",
   "execution_count": 7,
   "metadata": {},
   "outputs": [],
   "source": [
    "#compose the file name \n",
    "results_df['file_name']= results_df['gov_name']+ \"_\" + results_df['gov_year'] + \"_\" + results_df['simple_name']"
   ]
  },
  {
   "cell_type": "code",
   "execution_count": 8,
   "metadata": {},
   "outputs": [
    {
     "data": {
      "text/html": [
       "<div>\n",
       "<style scoped>\n",
       "    .dataframe tbody tr th:only-of-type {\n",
       "        vertical-align: middle;\n",
       "    }\n",
       "\n",
       "    .dataframe tbody tr th {\n",
       "        vertical-align: top;\n",
       "    }\n",
       "\n",
       "    .dataframe thead th {\n",
       "        text-align: right;\n",
       "    }\n",
       "</style>\n",
       "<table border=\"1\" class=\"dataframe\">\n",
       "  <thead>\n",
       "    <tr style=\"text-align: right;\">\n",
       "      <th></th>\n",
       "      <th>measure_number</th>\n",
       "      <th>signed_or_vetoed</th>\n",
       "      <th>date</th>\n",
       "      <th>relating_to_clause</th>\n",
       "      <th>links</th>\n",
       "      <th>simple_name</th>\n",
       "      <th>bill_url</th>\n",
       "      <th>gov_name</th>\n",
       "      <th>gov_year</th>\n",
       "      <th>file_name</th>\n",
       "    </tr>\n",
       "  </thead>\n",
       "  <tbody>\n",
       "    <tr>\n",
       "      <td>0</td>\n",
       "      <td>{'url': 'https://olis.leg.state.or.us/liz/2014...</td>\n",
       "      <td>&lt;p&gt;Signed&lt;/p&gt;</td>\n",
       "      <td>2014-02-26T00:00:00.000</td>\n",
       "      <td>&lt;p&gt;Relating to the Oregon Ocean Science Trust;...</td>\n",
       "      <td>NaN</td>\n",
       "      <td>SB1545</td>\n",
       "      <td>https://olis.leg.state.or.us/liz/2014R1/Downlo...</td>\n",
       "      <td>Kitzhaber</td>\n",
       "      <td>2014</td>\n",
       "      <td>Kitzhaber_2014_SB1545</td>\n",
       "    </tr>\n",
       "    <tr>\n",
       "      <td>1</td>\n",
       "      <td>{'url': 'https://olis.leg.state.or.us/liz/2014...</td>\n",
       "      <td>&lt;p&gt;Signed&lt;/p&gt;</td>\n",
       "      <td>2014-02-26T00:00:00.000</td>\n",
       "      <td>&lt;p&gt;Relating to vessel ocean Dungeness crab per...</td>\n",
       "      <td>NaN</td>\n",
       "      <td>HB4049</td>\n",
       "      <td>https://olis.leg.state.or.us/liz/2014R1/Downlo...</td>\n",
       "      <td>Kitzhaber</td>\n",
       "      <td>2014</td>\n",
       "      <td>Kitzhaber_2014_HB4049</td>\n",
       "    </tr>\n",
       "    <tr>\n",
       "      <td>2</td>\n",
       "      <td>{'url': 'https://olis.leg.state.or.us/liz/2014...</td>\n",
       "      <td>&lt;p&gt;Signed&lt;/p&gt;</td>\n",
       "      <td>2014-02-26T00:00:00.000</td>\n",
       "      <td>&lt;p&gt;Relating to entrepreneurial development;&lt;/p&gt;</td>\n",
       "      <td>NaN</td>\n",
       "      <td>SB1563</td>\n",
       "      <td>https://olis.leg.state.or.us/liz/2014R1/Downlo...</td>\n",
       "      <td>Kitzhaber</td>\n",
       "      <td>2014</td>\n",
       "      <td>Kitzhaber_2014_SB1563</td>\n",
       "    </tr>\n",
       "    <tr>\n",
       "      <td>3</td>\n",
       "      <td>{'url': 'https://olis.leg.state.or.us/liz/2014...</td>\n",
       "      <td>&lt;p&gt;Signed&lt;/p&gt;</td>\n",
       "      <td>2014-02-26T00:00:00.000</td>\n",
       "      <td>&lt;p&gt;Relating to applications for exotic animal ...</td>\n",
       "      <td>NaN</td>\n",
       "      <td>SB1584</td>\n",
       "      <td>https://olis.leg.state.or.us/liz/2014R1/Downlo...</td>\n",
       "      <td>Kitzhaber</td>\n",
       "      <td>2014</td>\n",
       "      <td>Kitzhaber_2014_SB1584</td>\n",
       "    </tr>\n",
       "    <tr>\n",
       "      <td>4</td>\n",
       "      <td>{'url': 'https://olis.leg.state.or.us/liz/2014...</td>\n",
       "      <td>&lt;p&gt;Signed&lt;/p&gt;</td>\n",
       "      <td>2014-03-03T00:00:00.000</td>\n",
       "      <td>&lt;p&gt;Relating to continuity in the enrollment of...</td>\n",
       "      <td>NaN</td>\n",
       "      <td>HB4007</td>\n",
       "      <td>https://olis.leg.state.or.us/liz/2014R1/Downlo...</td>\n",
       "      <td>Kitzhaber</td>\n",
       "      <td>2014</td>\n",
       "      <td>Kitzhaber_2014_HB4007</td>\n",
       "    </tr>\n",
       "  </tbody>\n",
       "</table>\n",
       "</div>"
      ],
      "text/plain": [
       "                                      measure_number signed_or_vetoed  \\\n",
       "0  {'url': 'https://olis.leg.state.or.us/liz/2014...    <p>Signed</p>   \n",
       "1  {'url': 'https://olis.leg.state.or.us/liz/2014...    <p>Signed</p>   \n",
       "2  {'url': 'https://olis.leg.state.or.us/liz/2014...    <p>Signed</p>   \n",
       "3  {'url': 'https://olis.leg.state.or.us/liz/2014...    <p>Signed</p>   \n",
       "4  {'url': 'https://olis.leg.state.or.us/liz/2014...    <p>Signed</p>   \n",
       "\n",
       "                      date                                 relating_to_clause  \\\n",
       "0  2014-02-26T00:00:00.000  <p>Relating to the Oregon Ocean Science Trust;...   \n",
       "1  2014-02-26T00:00:00.000  <p>Relating to vessel ocean Dungeness crab per...   \n",
       "2  2014-02-26T00:00:00.000    <p>Relating to entrepreneurial development;</p>   \n",
       "3  2014-02-26T00:00:00.000  <p>Relating to applications for exotic animal ...   \n",
       "4  2014-03-03T00:00:00.000  <p>Relating to continuity in the enrollment of...   \n",
       "\n",
       "  links simple_name                                           bill_url  \\\n",
       "0   NaN      SB1545  https://olis.leg.state.or.us/liz/2014R1/Downlo...   \n",
       "1   NaN      HB4049  https://olis.leg.state.or.us/liz/2014R1/Downlo...   \n",
       "2   NaN      SB1563  https://olis.leg.state.or.us/liz/2014R1/Downlo...   \n",
       "3   NaN      SB1584  https://olis.leg.state.or.us/liz/2014R1/Downlo...   \n",
       "4   NaN      HB4007  https://olis.leg.state.or.us/liz/2014R1/Downlo...   \n",
       "\n",
       "    gov_name gov_year              file_name  \n",
       "0  Kitzhaber     2014  Kitzhaber_2014_SB1545  \n",
       "1  Kitzhaber     2014  Kitzhaber_2014_HB4049  \n",
       "2  Kitzhaber     2014  Kitzhaber_2014_SB1563  \n",
       "3  Kitzhaber     2014  Kitzhaber_2014_SB1584  \n",
       "4  Kitzhaber     2014  Kitzhaber_2014_HB4007  "
      ]
     },
     "execution_count": 8,
     "metadata": {},
     "output_type": "execute_result"
    }
   ],
   "source": [
    "results_df.head()"
   ]
  },
  {
   "cell_type": "markdown",
   "metadata": {},
   "source": [
    "### Writing a single pdf file locally"
   ]
  },
  {
   "cell_type": "code",
   "execution_count": 9,
   "metadata": {},
   "outputs": [],
   "source": [
    "_ = results_df['bill_url'][0]"
   ]
  },
  {
   "cell_type": "code",
   "execution_count": 10,
   "metadata": {},
   "outputs": [
    {
     "data": {
      "text/plain": [
       "('C:\\\\Users\\\\ASUS\\\\single.pdf', <http.client.HTTPMessage at 0x19c4f73bb08>)"
      ]
     },
     "execution_count": 10,
     "metadata": {},
     "output_type": "execute_result"
    }
   ],
   "source": [
    "urllib.request.urlretrieve(_,r'C:\\Users\\ASUS\\single.pdf')"
   ]
  },
  {
   "cell_type": "markdown",
   "metadata": {},
   "source": [
    "### write PDF files using file_name "
   ]
  },
  {
   "cell_type": "code",
   "execution_count": 14,
   "metadata": {},
   "outputs": [
    {
     "ename": "SyntaxError",
     "evalue": "(unicode error) 'unicodeescape' codec can't decode bytes in position 2-3: truncated \\UXXXXXXXX escape (<ipython-input-14-4dc962daa8d4>, line 6)",
     "output_type": "error",
     "traceback": [
      "\u001b[1;36m  File \u001b[1;32m\"<ipython-input-14-4dc962daa8d4>\"\u001b[1;36m, line \u001b[1;32m6\u001b[0m\n\u001b[1;33m    open('C:\\Users\\ASUS\\hello.pdf', 'wb').write(myfile.content)\u001b[0m\n\u001b[1;37m        ^\u001b[0m\n\u001b[1;31mSyntaxError\u001b[0m\u001b[1;31m:\u001b[0m (unicode error) 'unicodeescape' codec can't decode bytes in position 2-3: truncated \\UXXXXXXXX escape\n"
     ]
    }
   ],
   "source": [
    "url = results_df['bill_name']\n",
    "filename = resuts_df['file_name']\n",
    "myfile = requests.get(url)\n",
    "\n",
    "for address, name in results_df[['bill_name','file_name']]:\n",
    "     open('C:\\Users\\ASUS\\hello.pdf', 'wb').write(myfile.content)"
   ]
  },
  {
   "cell_type": "code",
   "execution_count": 19,
   "metadata": {},
   "outputs": [
    {
     "ename": "SyntaxError",
     "evalue": "(unicode error) 'unicodeescape' codec can't decode bytes in position 2-3: truncated \\UXXXXXXXX escape (<ipython-input-19-79ebfad1be6f>, line 2)",
     "output_type": "error",
     "traceback": [
      "\u001b[1;36m  File \u001b[1;32m\"<ipython-input-19-79ebfad1be6f>\"\u001b[1;36m, line \u001b[1;32m2\u001b[0m\n\u001b[1;33m    urllib.request.urlretrieve(file,f\"C:\\Users\\ASUS\\{simple_name}.pdf\")\u001b[0m\n\u001b[1;37m                                   ^\u001b[0m\n\u001b[1;31mSyntaxError\u001b[0m\u001b[1;31m:\u001b[0m (unicode error) 'unicodeescape' codec can't decode bytes in position 2-3: truncated \\UXXXXXXXX escape\n"
     ]
    }
   ],
   "source": [
    "\n",
    "for simple_name, file in results_df[['simple_name', 'bill_url']]:\n",
    "   urllib.request.urlretrieve(file, f\"C:\\Users\\ASUS\\{simple_name}.pdf\")"
   ]
  },
  {
   "cell_type": "code",
   "execution_count": null,
   "metadata": {},
   "outputs": [],
   "source": []
  }
 ],
 "metadata": {
  "kernelspec": {
   "display_name": "Python 3",
   "language": "python",
   "name": "python3"
  },
  "language_info": {
   "codemirror_mode": {
    "name": "ipython",
    "version": 3
   },
   "file_extension": ".py",
   "mimetype": "text/x-python",
   "name": "python",
   "nbconvert_exporter": "python",
   "pygments_lexer": "ipython3",
   "version": "3.7.4"
  }
 },
 "nbformat": 4,
 "nbformat_minor": 2
}
