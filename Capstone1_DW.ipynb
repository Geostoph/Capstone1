{
 "cells": [
  {
   "cell_type": "markdown",
   "metadata": {},
   "source": [
    "## Capstone 1: Oregon State Legislature Bill Clustering"
   ]
  },
  {
   "cell_type": "markdown",
   "metadata": {},
   "source": [
    "### Data Wrangling Part 1: Getting PDF documents from a URL:\n"
   ]
  },
  {
   "cell_type": "code",
   "execution_count": 1,
   "metadata": {},
   "outputs": [],
   "source": [
    "import pandas as pd\n",
    "import numpy as np\n",
    "import requests\n",
    "import urllib.request"
   ]
  },
  {
   "cell_type": "markdown",
   "metadata": {},
   "source": [
    "### Obtain the URL data from the API and store in a dataframe:"
   ]
  },
  {
   "cell_type": "code",
   "execution_count": 2,
   "metadata": {},
   "outputs": [],
   "source": [
    "from sodapy import Socrata"
   ]
  },
  {
   "cell_type": "code",
   "execution_count": 3,
   "metadata": {},
   "outputs": [
    {
     "name": "stderr",
     "output_type": "stream",
     "text": [
      "WARNING:root:Requests made without an app_token will be subject to strict throttling limits.\n"
     ]
    }
   ],
   "source": [
    "# Unauthenticated client only works with public data sets. Note 'None'\n",
    "# in place of application token, and no username or password:\n",
    "client = Socrata(\"data.oregon.gov\", None)\n",
    "\n",
    "# Example authenticated client (needed for non-public datasets):\n",
    "# client = Socrata(data.oregon.gov,\n",
    "#                  MyAppToken,\n",
    "#                  userame=\"user@example.com\",\n",
    "#                  password=\"AFakePassword\")\n",
    "\n",
    "# First 2000 results, returned as JSON from API / converted to Python list of\n",
    "# dictionaries by sodapy.\n",
    "results = client.get(\"murb-ru5f\", limit=2000)\n",
    "\n",
    "# Convert to pandas DataFrame\n",
    "results_df = pd.DataFrame.from_records(results)"
   ]
  },
  {
   "cell_type": "markdown",
   "metadata": {},
   "source": [
    "### Extract usable portions of text column for file naming\n",
    "\n",
    "The first step is to isolate the relevant text from the \"measure_number\" column.\n",
    "We need the url of the bill.\n",
    "\n",
    "Second is to add columns for the governor and year.\n",
    "\n",
    "We want to  build the filename to be:\n",
    "file_name = gov_name + \"_\" + gov_year + \"_\" + the_bill\n",
    "\n",
    "Example:\n",
    "'Brown_2018_HB405'\n"
   ]
  },
  {
   "cell_type": "code",
   "execution_count": 4,
   "metadata": {},
   "outputs": [],
   "source": [
    "#get the abbreviated name of the bill\n",
    "\n",
    "#create an empty set to hold the results\n",
    "simple_name = []\n",
    "#loop through the measure_number column\n",
    "for a in results_df['measure_number']:\n",
    "    \n",
    "    #turn the column into a string\n",
    "    x = str(a)\n",
    "    \n",
    "    #grab everything after the \"//\"\n",
    "    after_https = x.split('//')[1]\n",
    "    \n",
    "    #grab everything after the 5th \"/\"\n",
    "    the_bill = after_https.split('/')[5]\n",
    "    \n",
    "    #split on the comma and take the first item\n",
    "    simple_name_a= the_bill.split(\"'\",1)[0]\n",
    "    \n",
    "    #add the result to the empty set    \n",
    "    simple_name.append(simple_name_a)\n",
    "    \n",
    "#place the results into a new column in the df    \n",
    "results_df['simple_name'] = simple_name\n"
   ]
  },
  {
   "cell_type": "code",
   "execution_count": 5,
   "metadata": {},
   "outputs": [],
   "source": [
    "#follow same steps as above to extract relevant text.\n",
    "\n",
    "final = []\n",
    "for url in results_df['measure_number']:\n",
    "    x =str(url)\n",
    "    y = x.split(\": '\", 1)[1]\n",
    "    z = y.split(\",\",1)[0]\n",
    "    final_url = z.split(\"'\",1)[0]\n",
    "    final.append(final_url)\n",
    "results_df['bill_url'] = final\n"
   ]
  },
  {
   "cell_type": "code",
   "execution_count": 6,
   "metadata": {},
   "outputs": [],
   "source": [
    "#add a column for the governor name \n",
    "\n",
    "for name in results_df:\n",
    "    name = \"Kitzhaber\"\n",
    "results_df[\"gov_name\"] = name\n",
    "\n",
    "#add a column for the year the bill was signed\n",
    "\n",
    "for name in results_df:\n",
    "    name = \"2014\"\n",
    "results_df[\"gov_year\"] = name\n"
   ]
  },
  {
   "cell_type": "code",
   "execution_count": 7,
   "metadata": {},
   "outputs": [],
   "source": [
    "#compose the file name \n",
    "results_df['file_name']= results_df['gov_name']+ \"_\" + results_df['gov_year'] + \"_\" + results_df['simple_name']"
   ]
  },
  {
   "cell_type": "code",
   "execution_count": 8,
   "metadata": {},
   "outputs": [
    {
     "data": {
      "text/html": [
       "<div>\n",
       "<style scoped>\n",
       "    .dataframe tbody tr th:only-of-type {\n",
       "        vertical-align: middle;\n",
       "    }\n",
       "\n",
       "    .dataframe tbody tr th {\n",
       "        vertical-align: top;\n",
       "    }\n",
       "\n",
       "    .dataframe thead th {\n",
       "        text-align: right;\n",
       "    }\n",
       "</style>\n",
       "<table border=\"1\" class=\"dataframe\">\n",
       "  <thead>\n",
       "    <tr style=\"text-align: right;\">\n",
       "      <th></th>\n",
       "      <th>measure_number</th>\n",
       "      <th>signed_or_vetoed</th>\n",
       "      <th>date</th>\n",
       "      <th>relating_to_clause</th>\n",
       "      <th>links</th>\n",
       "      <th>simple_name</th>\n",
       "      <th>bill_url</th>\n",
       "      <th>gov_name</th>\n",
       "      <th>gov_year</th>\n",
       "      <th>file_name</th>\n",
       "    </tr>\n",
       "  </thead>\n",
       "  <tbody>\n",
       "    <tr>\n",
       "      <td>0</td>\n",
       "      <td>{'url': 'https://olis.leg.state.or.us/liz/2014...</td>\n",
       "      <td>&lt;p&gt;Signed&lt;/p&gt;</td>\n",
       "      <td>2014-02-26T00:00:00.000</td>\n",
       "      <td>&lt;p&gt;Relating to the Oregon Ocean Science Trust;...</td>\n",
       "      <td>NaN</td>\n",
       "      <td>SB1545</td>\n",
       "      <td>https://olis.leg.state.or.us/liz/2014R1/Downlo...</td>\n",
       "      <td>Kitzhaber</td>\n",
       "      <td>2014</td>\n",
       "      <td>Kitzhaber_2014_SB1545</td>\n",
       "    </tr>\n",
       "    <tr>\n",
       "      <td>1</td>\n",
       "      <td>{'url': 'https://olis.leg.state.or.us/liz/2014...</td>\n",
       "      <td>&lt;p&gt;Signed&lt;/p&gt;</td>\n",
       "      <td>2014-02-26T00:00:00.000</td>\n",
       "      <td>&lt;p&gt;Relating to vessel ocean Dungeness crab per...</td>\n",
       "      <td>NaN</td>\n",
       "      <td>HB4049</td>\n",
       "      <td>https://olis.leg.state.or.us/liz/2014R1/Downlo...</td>\n",
       "      <td>Kitzhaber</td>\n",
       "      <td>2014</td>\n",
       "      <td>Kitzhaber_2014_HB4049</td>\n",
       "    </tr>\n",
       "    <tr>\n",
       "      <td>2</td>\n",
       "      <td>{'url': 'https://olis.leg.state.or.us/liz/2014...</td>\n",
       "      <td>&lt;p&gt;Signed&lt;/p&gt;</td>\n",
       "      <td>2014-02-26T00:00:00.000</td>\n",
       "      <td>&lt;p&gt;Relating to entrepreneurial development;&lt;/p&gt;</td>\n",
       "      <td>NaN</td>\n",
       "      <td>SB1563</td>\n",
       "      <td>https://olis.leg.state.or.us/liz/2014R1/Downlo...</td>\n",
       "      <td>Kitzhaber</td>\n",
       "      <td>2014</td>\n",
       "      <td>Kitzhaber_2014_SB1563</td>\n",
       "    </tr>\n",
       "    <tr>\n",
       "      <td>3</td>\n",
       "      <td>{'url': 'https://olis.leg.state.or.us/liz/2014...</td>\n",
       "      <td>&lt;p&gt;Signed&lt;/p&gt;</td>\n",
       "      <td>2014-02-26T00:00:00.000</td>\n",
       "      <td>&lt;p&gt;Relating to applications for exotic animal ...</td>\n",
       "      <td>NaN</td>\n",
       "      <td>SB1584</td>\n",
       "      <td>https://olis.leg.state.or.us/liz/2014R1/Downlo...</td>\n",
       "      <td>Kitzhaber</td>\n",
       "      <td>2014</td>\n",
       "      <td>Kitzhaber_2014_SB1584</td>\n",
       "    </tr>\n",
       "    <tr>\n",
       "      <td>4</td>\n",
       "      <td>{'url': 'https://olis.leg.state.or.us/liz/2014...</td>\n",
       "      <td>&lt;p&gt;Signed&lt;/p&gt;</td>\n",
       "      <td>2014-03-03T00:00:00.000</td>\n",
       "      <td>&lt;p&gt;Relating to continuity in the enrollment of...</td>\n",
       "      <td>NaN</td>\n",
       "      <td>HB4007</td>\n",
       "      <td>https://olis.leg.state.or.us/liz/2014R1/Downlo...</td>\n",
       "      <td>Kitzhaber</td>\n",
       "      <td>2014</td>\n",
       "      <td>Kitzhaber_2014_HB4007</td>\n",
       "    </tr>\n",
       "  </tbody>\n",
       "</table>\n",
       "</div>"
      ],
      "text/plain": [
       "                                      measure_number signed_or_vetoed  \\\n",
       "0  {'url': 'https://olis.leg.state.or.us/liz/2014...    <p>Signed</p>   \n",
       "1  {'url': 'https://olis.leg.state.or.us/liz/2014...    <p>Signed</p>   \n",
       "2  {'url': 'https://olis.leg.state.or.us/liz/2014...    <p>Signed</p>   \n",
       "3  {'url': 'https://olis.leg.state.or.us/liz/2014...    <p>Signed</p>   \n",
       "4  {'url': 'https://olis.leg.state.or.us/liz/2014...    <p>Signed</p>   \n",
       "\n",
       "                      date                                 relating_to_clause  \\\n",
       "0  2014-02-26T00:00:00.000  <p>Relating to the Oregon Ocean Science Trust;...   \n",
       "1  2014-02-26T00:00:00.000  <p>Relating to vessel ocean Dungeness crab per...   \n",
       "2  2014-02-26T00:00:00.000    <p>Relating to entrepreneurial development;</p>   \n",
       "3  2014-02-26T00:00:00.000  <p>Relating to applications for exotic animal ...   \n",
       "4  2014-03-03T00:00:00.000  <p>Relating to continuity in the enrollment of...   \n",
       "\n",
       "  links simple_name                                           bill_url  \\\n",
       "0   NaN      SB1545  https://olis.leg.state.or.us/liz/2014R1/Downlo...   \n",
       "1   NaN      HB4049  https://olis.leg.state.or.us/liz/2014R1/Downlo...   \n",
       "2   NaN      SB1563  https://olis.leg.state.or.us/liz/2014R1/Downlo...   \n",
       "3   NaN      SB1584  https://olis.leg.state.or.us/liz/2014R1/Downlo...   \n",
       "4   NaN      HB4007  https://olis.leg.state.or.us/liz/2014R1/Downlo...   \n",
       "\n",
       "    gov_name gov_year              file_name  \n",
       "0  Kitzhaber     2014  Kitzhaber_2014_SB1545  \n",
       "1  Kitzhaber     2014  Kitzhaber_2014_HB4049  \n",
       "2  Kitzhaber     2014  Kitzhaber_2014_SB1563  \n",
       "3  Kitzhaber     2014  Kitzhaber_2014_SB1584  \n",
       "4  Kitzhaber     2014  Kitzhaber_2014_HB4007  "
      ]
     },
     "execution_count": 8,
     "metadata": {},
     "output_type": "execute_result"
    }
   ],
   "source": [
    "results_df.head()"
   ]
  },
  {
   "cell_type": "markdown",
   "metadata": {},
   "source": [
    "## Data Wrangling Part 2: Extracting text from PDF documents"
   ]
  },
  {
   "cell_type": "markdown",
   "metadata": {},
   "source": [
    "### Writing a single pdf file locally"
   ]
  },
  {
   "cell_type": "code",
   "execution_count": 9,
   "metadata": {},
   "outputs": [],
   "source": [
    "_ = results_df['bill_url'][0]"
   ]
  },
  {
   "cell_type": "code",
   "execution_count": 10,
   "metadata": {},
   "outputs": [
    {
     "data": {
      "text/plain": [
       "('C:\\\\Users\\\\ASUS\\\\single.pdf', <http.client.HTTPMessage at 0x15c16921bc8>)"
      ]
     },
     "execution_count": 10,
     "metadata": {},
     "output_type": "execute_result"
    }
   ],
   "source": [
    "urllib.request.urlretrieve(_,r'C:\\Users\\ASUS\\single.pdf')"
   ]
  },
  {
   "cell_type": "markdown",
   "metadata": {},
   "source": [
    "### Writing a PDF file for each bill "
   ]
  },
  {
   "cell_type": "code",
   "execution_count": 11,
   "metadata": {
    "scrolled": true
   },
   "outputs": [
    {
     "data": {
      "text/plain": [
       "0      (C:\\Users\\ASUS\\PDFsCapstone\\Kitzhaber_2014_SB1...\n",
       "1      (C:\\Users\\ASUS\\PDFsCapstone\\Kitzhaber_2014_HB4...\n",
       "2      (C:\\Users\\ASUS\\PDFsCapstone\\Kitzhaber_2014_SB1...\n",
       "3      (C:\\Users\\ASUS\\PDFsCapstone\\Kitzhaber_2014_SB1...\n",
       "4      (C:\\Users\\ASUS\\PDFsCapstone\\Kitzhaber_2014_HB4...\n",
       "                             ...                        \n",
       "116    (C:\\Users\\ASUS\\PDFsCapstone\\Kitzhaber_2014_SB5...\n",
       "117    (C:\\Users\\ASUS\\PDFsCapstone\\Kitzhaber_2014_SB5...\n",
       "118    (C:\\Users\\ASUS\\PDFsCapstone\\Kitzhaber_2014_SB5...\n",
       "119    (C:\\Users\\ASUS\\PDFsCapstone\\Kitzhaber_2014_HB4...\n",
       "120    (C:\\Users\\ASUS\\PDFsCapstone\\Kitzhaber_2014_HB4...\n",
       "Length: 121, dtype: object"
      ]
     },
     "execution_count": 11,
     "metadata": {},
     "output_type": "execute_result"
    }
   ],
   "source": [
    "#use a lambda function that goes through each row\n",
    "#and takes the entry in the bill url column\n",
    "#and writes a pdf using the file name as the name of the pdf.\n",
    "results_df.apply( lambda row: urllib.request.urlretrieve( row[ 'bill_url' ], r'C:\\Users\\ASUS\\PDFsCapstone\\{}.pdf'.format( row[ 'file_name' ] ) ), axis=1 )"
   ]
  },
  {
   "cell_type": "markdown",
   "metadata": {},
   "source": [
    "### Extracting text from all pages of a PDF"
   ]
  },
  {
   "cell_type": "code",
   "execution_count": 12,
   "metadata": {},
   "outputs": [
    {
     "data": {
      "text/plain": [
       "4"
      ]
     },
     "execution_count": 12,
     "metadata": {},
     "output_type": "execute_result"
    }
   ],
   "source": [
    "import PyPDF2\n",
    "\n",
    "#We first open the file and create an object.\n",
    "pdfFileObject = open(r\"C:\\Users\\ASUS\\PDFsCapstone\\Brown_2019_SB 98.pdf\", 'rb')\n",
    "\n",
    "#Next we read the object\n",
    "pdfReader = PyPDF2.PdfFileReader(pdfFileObject)\n",
    "pdfReader.numPages"
   ]
  },
  {
   "cell_type": "code",
   "execution_count": 13,
   "metadata": {},
   "outputs": [
    {
     "name": "stdout",
     "output_type": "stream",
     "text": [
      "80th OREGON LEGISLATIVE ASSEMBLY--2019 Regular SessionEnrolledSenate Bill 98Printed pursuant to Senate Interim Rule 213.28 by order of the President of the Senate in conform-ance with presession filing rules, indicating neither advocacy nor opposition on the part of thePresident (at the request of Senate Interim Committee on Environment and Natural Resources)CHAPTER.................................................AN ACTRelating to renewable natural gas; and prescribing an effective date.\n",
      "Be It Enacted by the People of the State of Oregon:SECTION 1.Sections 2 to 6 of this 2019 Act are added to and made a part of ORS chapter757.SECTION 2.(1) The Legislative Assembly finds and declares that:(a) Renewable natural gas provides benefits to natural gas utility customers and to thepublic; and(b) The development of renewable natural gas resources should be encouraged to supporta smooth transition to a low carbon energy economy in Oregon.(2) The Legislative Assembly therefore declares that:\n",
      "(a) Natural gas utilities can reduce emissions from the direct use of natural gas by pro-curing renewable natural gas and investing in renewable natural gas infrastructure;(b) Regulatory guidelines for the procurement of renewable natural gas and investmentsin renewable natural gas infrastructure should enable the procurements and investmentswhile also protecting Oregon consumers; and(c) Renewable natural gas should be included in the broader set of low carbon resourcesthat may leverage the natural gas system to reduce greenhouse gas emissions.SECTION 3.As used in sections 2 to 6 of this 2019 Act:(1) ªBiogasº means a mixture of carbon dioxide and hydrocarbons, primarily methanegas, released from the biological decomposition of organic materials.(2) ªBiomassº has the meaning given that term in ORS 315.141.\n",
      "(3) ªLarge natural gas utilityº means a natural gas utility with 200,000 or more customeraccounts in Oregon.(4) ªNatural gas utilityº means a public utility providing natural gas service to custom-ers.(5)(a) ªQualified investmentº means any capital investment in renewable natural gasinfrastructure incurred by a natural gas utility for the purpose of providing natural gasservice under a renewable natural gas program described in section 5 or 6 of this 2019 Act.(b) ªQualified investmentº does not mean an investment in a biogas production projectby:(A) A single livestock operation that produces more than 250 standard cubic feet ofbiogas per minute; orEnrolled Senate Bill 98 (SB 98-B)Page 1\n",
      "(B) A single biogas source that produces more than 1,000 standard cubic feet of biogasperminute.(6) ªRenewable energy sourcesº means hydroelectric, geothermal, solar photovoltaic,wind, tidal, wave, biomass or biogas energy sources.(7) ªRenewable natural gasº means any of the following products processed to meetpipeline quality standards or transportation fuel grade requirements:(a) Biogas that is upgraded to meet natural gas pipeline quality standards such that itmay blend with, or substitute for, geologic natural gas;(b) Hydrogen gas derived from renewable energy sources; or\n",
      "(c) Methane gas derived from any combination of:\n",
      "(A) Biogas;\n",
      "(B) Hydrogen gas or carbon oxides derived from renewable energy sources; or\n",
      "(C) Waste carbon dioxide.\n",
      "(8) ªRenewable natural gas infrastructureº means all equipment and facilities for theproduction, processing, pipeline interconnection and distribution of renewable natural gas tobe furnished to Oregon customers.(9) ªSmall natural gas utilityº means a natural gas utility with fewer than 200,000 cus-tomer accounts in Oregon.SECTION 4.(1) The Public Utility Commission shall adopt by rule a large renewable na-tural gas program for large natural gas utilities pursuant to the provisions of section 5 ofthis 2019 Act.(2) The commission shall adopt by rule a small renewable natural gas program for smallnatural gas utilities pursuant to section 6 of this 2019 Act.(3) Rules adopted by the commission under this section shall include:\n",
      "(a) Rules for reporting requirements under the large renewable natural gas program andthe small renewable natural gas program; and(b) Rules for establishing a process for natural gas utilities to fully recover prudentlyincurred costs associated with the large renewable natural gas program and the small\n",
      "renewable natural gas program.(4) Rules adopted by the commission under this section may not prohibit an affiliatedinterest of a small natural gas utility or of a large natural gas utility from making a capitalinvestment in a biogas production project if the affiliated interest, as defined in ORS 757.015,is not a public utility.SECTION 5.(1) A large natural gas utility that participates in the large renewable na-tural gas program adopted by rule by the Public Utility Commission under section 4 (1) ofthis 2019 Act may make qualified investments and procure renewable natural gas from thirdparties to meet the following portfolio targets for the percentage of gas purchased by thelarge natural gas utility for distribution to retail natural gas customers in Oregon that isrenewable natural gas:(a) In each of the calendar years 2020 through 2024, five percent may be renewable na-turalgas;(b) In each of the calendar years 2025 through 2029, 10 percent may be renewable naturalgas;(c) In each of the calendar years 2030 through 2034, 15 percent may be renewable naturalgas;(d) In each of the calendar years 2035 through 2039, 20 percent may be renewable naturalgas;(e) In each of the calendar years 2040 through 2044, 25 percent may be renewable naturalgas; and(f) In each of the calendar years 2045 through 2050, 30 percent may be renewable naturalgas.Enrolled Senate Bill 98 (SB 98-B)Page 2\n",
      "(2) The commission shall adopt ratemaking mechanisms that ensure the recovery of allprudently incurred costs that contribute to the large natural gas utility's meeting the tar-gets set forth in subsection (1) of this section. Pursuant to the ratemaking mechanismsadopted under this subsection:(a) Qualified investments and operating costs associated with qualified investments thatcontribute to the large natural gas utility meeting the targets set forth in subsection (1) ofthis section may be recovered by means of an automatic adjustment clause, as defined inORS757.210.(b) Costs of procurement of renewable natural gas from third parties that contribute tothe large natural gas utility meeting the targets set forth in subsection (1) of this sectionmay be recovered by means of an automatic adjustment clause, as defined in ORS 757.210,or another recovery mechanism authorized by rule.(3) When a large natural gas utility makes a qualified investment in the production ofrenewable natural gas, the costs associated with the qualified investment shall include thecost of capital established by the commission in the large natural gas utility's most recentgeneral rate case.(4) Before making a qualified investment in biogas production that is upstream of condi-tioning equipment, pipeline interconnection or gas cleaning, a large natural gas utility shallengage in a competitive bidding process.(5) If the large natural gas utility's total incremental annual cost to meet the targets ofthe large renewable natural gas program exceeds five percent of the large natural gasutility's total revenue requirement for an individual year, the large natural gas utility mayno longer be authorized to make additional qualified investments under the large renewablenatural gas program for that year without approval from the commission.(6) The total incremental annual cost to meet the targets of the large renewable naturalgas program must account for:(a) Any value received by a large natural gas utility upon any resale of renewable naturalgas, including any environmental credits that the renewable natural gas producer choosesto include with the sale of the renewable natural gas to the large natural gas utility; and(b) Any savings achieved through avoidance of conventional gas purchases or develop-ment, such as avoided pipeline costs or carbon costs.SECTION 6.(1) Upon a filing by a small natural gas utility to participate in the smallrenewable natural gas program adopted by rule by the Public Utility Commission under sec-tion 4 (2) of this 2019 Act, the commission shall establish a rate cap limiting the small na-tural gas utility's costs of procuring renewable natural gas from third parties and qualifiedinvestments in renewable natural gas infrastructure. The rate cap must be expressed as apercentage of the small natural gas utility's total revenue requirement as approved by thecommission in the public utility's most recent general rate case. For the purposes of estab-lishing a rate cap under this subsection, the commission shall account for:(a) Any value received by the small natural gas utility upon any resale of renewable na-tural gas, including any environmental credits that the renewable natural gas producerchooses to include with the sale of renewable natural gas to the small natural gas utility;and(b) Any savings achieved through avoidance of conventional gas purchases or develop-ment, such as avoided pipeline costs or carbon costs.(2)(a) A filing by a small natural gas utility under subsection (1) of this section must in-clude, but need not be limited to:(A) A proposal to procure a total volume of renewable natural gas over a specific period;and(B) Identification of the qualified investments that the small natural gas utility maymake in renewable natural gas infrastructure.Enrolled Senate Bill 98 (SB 98-B)Page 3\n",
      "(b) A small natural gas utility may from time to time revise the filing submitted to thecommission under this section.(3) Any prudently incurred costs incurred by a small natural gas utility pursuant to afiling submitted under this section may be recovered by means of an automatic adjustmentclause, as defined in ORS 757.210.(4) When a small natural gas utility makes a qualified investment in the production ofrenewable natural gas, the costs associated with that qualified investment shall include the\n",
      "cost of capital established by the commission in the small natural gas utility's most recentgeneral rate case.SECTION 7.The Public Utility Commission shall adopt rules pursuant to sections 4 to 6of this 2019 Act no later than July 31, 2020.SECTION 8.This 2019 Act takes effect on the 91st day after the date on which the 2019regular session of the Eightieth Legislative Assembly adjourns sine die.Passed by Senate June 13, 2019..................................................................................Lori L. Brocker, Secretary of Senate..................................................................................Peter Courtney, President of SenatePassed by House June 19, 2019..................................................................................Tina Kotek, Speaker of HouseReceived by Governor:........................M.,........................................................., 2019Approved:........................M.,........................................................., 2019..................................................................................Kate Brown, GovernorFiled in Office of Secretary of State:........................M.,........................................................., 2019..................................................................................Bev Clarno, Secretary of StateEnrolled Senate Bill 98 (SB 98-B)Page 4\n"
     ]
    }
   ],
   "source": [
    "#Now we need to extract the text from all pages\n",
    "#so we write a loop to accomplish this:\n",
    "\n",
    "#loop through each page in number of pages\n",
    "for pageNum in range(0, pdfReader.numPages):\n",
    "    #get each page in document\n",
    "    pageObj = pdfReader.getPage(pageNum)\n",
    "    #print each page in document\n",
    "    print(pageObj.extractText())"
   ]
  }
 ],
 "metadata": {
  "kernelspec": {
   "display_name": "Python 3",
   "language": "python",
   "name": "python3"
  },
  "language_info": {
   "codemirror_mode": {
    "name": "ipython",
    "version": 3
   },
   "file_extension": ".py",
   "mimetype": "text/x-python",
   "name": "python",
   "nbconvert_exporter": "python",
   "pygments_lexer": "ipython3",
   "version": "3.7.4"
  }
 },
 "nbformat": 4,
 "nbformat_minor": 2
}
